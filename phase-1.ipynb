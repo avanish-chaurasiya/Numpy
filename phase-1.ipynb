{
 "cells": [
  {
   "cell_type": "markdown",
   "id": "f8039374",
   "metadata": {},
   "source": [
    "Phase-1 and basic"
   ]
  },
  {
   "cell_type": "code",
   "execution_count": 7,
   "id": "c5444ffe",
   "metadata": {},
   "outputs": [],
   "source": [
    "import numpy as np"
   ]
  },
  {
   "cell_type": "markdown",
   "id": "dac50106",
   "metadata": {},
   "source": [
    "### creating array from list"
   ]
  },
  {
   "cell_type": "code",
   "execution_count": 16,
   "id": "62a3066b",
   "metadata": {},
   "outputs": [
    {
     "name": "stdout",
     "output_type": "stream",
     "text": [
      "1D array:  [1 2 3 4 5]\n",
      "2D array:  [[1 2 3]\n",
      " [4 5 6]]\n"
     ]
    }
   ],
   "source": [
    "arr_1d = np.array([1,2,3,4,5])\n",
    "print(\"1D array: \", arr_1d)\n",
    "\n",
    "arr_2d = np.array([[1,2,3],[4,5,6]])\n",
    "print(\"2D array: \", arr_2d)"
   ]
  },
  {
   "cell_type": "markdown",
   "id": "2c782aeb",
   "metadata": {},
   "source": [
    "List vs numpy array"
   ]
  },
  {
   "cell_type": "code",
   "execution_count": 17,
   "id": "6ccaa1a8",
   "metadata": {},
   "outputs": [
    {
     "name": "stdout",
     "output_type": "stream",
     "text": [
      "python list multiplication  [1, 2, 3, 4, 1, 2, 3, 4]\n",
      "python array multiplication  [2 4 6 8]\n"
     ]
    }
   ],
   "source": [
    "py_list = [1,2,3,4]\n",
    "print(\"python list multiplication \", py_list * 2)\n",
    "\n",
    "np_array = np.array([1,2,3,4])   #element wise multiplication\n",
    "print(\"python array multiplication \", np_array * 2)\n",
    "\n",
    "\n"
   ]
  },
  {
   "cell_type": "code",
   "execution_count": 18,
   "id": "b5218cb2",
   "metadata": {},
   "outputs": [
    {
     "name": "stdout",
     "output_type": "stream",
     "text": [
      "\n",
      " list operation time:  0.4468421936035156\n",
      "\n",
      " numpy operation time:  0.034293174743652344\n"
     ]
    }
   ],
   "source": [
    "import time\n",
    "\n",
    "start = time.time()\n",
    "py_list = [i*2 for i in range(10000000)]\n",
    "print(\"\\n list operation time: \", time.time()- start)\n",
    "\n",
    "start = time.time()\n",
    "np_array = np.arange(10000000) *2\n",
    "print(\"\\n numpy operation time: \", time.time()- start)"
   ]
  },
  {
   "cell_type": "markdown",
   "id": "9fe2d239",
   "metadata": {},
   "source": [
    "creating array from scratch"
   ]
  },
  {
   "cell_type": "code",
   "execution_count": null,
   "id": "2d174a82",
   "metadata": {},
   "outputs": [
    {
     "name": "stdout",
     "output_type": "stream",
     "text": [
      "zeros array :\n",
      " [[0. 0. 0.]\n",
      " [0. 0. 0.]\n",
      " [0. 0. 0.]]\n",
      "ones array :\n",
      " [[1. 1. 1. 1.]\n",
      " [1. 1. 1. 1.]]\n",
      "full array :\n",
      " [[7 7]\n",
      " [7 7]]\n",
      "random array :\n",
      " [[36.7461037  47.50894299 45.41662322]\n",
      " [14.42860282 61.56178378 26.2284604 ]\n",
      " [54.63186637 61.63609471 25.02526648]\n",
      " [51.52654517 67.01046653 61.51554432]]\n",
      "sequence array :\n",
      " [0 2 4 6 8]\n"
     ]
    }
   ],
   "source": [
    "zeros = np.zeros((3,3))\n",
    "print(\"zeros array :\\n\", zeros)\n",
    "\n",
    "ones = np.ones((2,4))\n",
    "print(\"ones array :\\n\", ones)\n",
    "\n",
    "\n",
    "full = np.full((2,2), 7)\n",
    "print(\"full array :\\n\", full)\n",
    "\n",
    "random = np.random.random((4,3)) * 100\n",
    "print(\"random array :\\n\", random) \n",
    "\n",
    "sequence = np.arange(0, 10, 2)   # 10 will not inclusive \n",
    "print(\"sequence array :\\n\", sequence) "
   ]
  },
  {
   "cell_type": "markdown",
   "id": "a3d27cba",
   "metadata": {},
   "source": [
    "### vector, Matrix and tensor"
   ]
  },
  {
   "cell_type": "code",
   "execution_count": 26,
   "id": "8b0cd0dd",
   "metadata": {},
   "outputs": [
    {
     "name": "stdout",
     "output_type": "stream",
     "text": [
      "vector:  [1 2 3]\n",
      "matrix: \n",
      " [[1 2 3]\n",
      " [4 5 6]]\n",
      "tensor: \n",
      " [[[1 2]\n",
      "  [3 4]\n",
      "  [5 6]\n",
      "  [7 8]]]\n"
     ]
    }
   ],
   "source": [
    "vector = np.array([1,2,3])\n",
    "print(\"vector: \", vector)\n",
    "\n",
    "matrix  = np.array([[1,2,3],\n",
    "                    [4,5,6]])\n",
    "print(\"matrix: \\n\", matrix)\n",
    "\n",
    "tensor = np.array([[[1,2],[3,4],\n",
    "                    [5,6],[7,8]]])\n",
    "print(\"tensor: \\n\", tensor)"
   ]
  },
  {
   "cell_type": "markdown",
   "id": "fbf229f7",
   "metadata": {},
   "source": [
    "### Array Properties"
   ]
  },
  {
   "cell_type": "code",
   "execution_count": null,
   "id": "d59c6071",
   "metadata": {},
   "outputs": [
    {
     "name": "stdout",
     "output_type": "stream",
     "text": [
      "Shape  (2, 3)\n",
      "Dimension  2\n",
      "Size  6\n",
      "data types  int64\n"
     ]
    }
   ],
   "source": [
    "arr =np.array([[1,2,3],\n",
    "               [4,5,]])\n",
    "print(\"Shape \",arr.shape)   # gives no. of   rows and column\n",
    "print(\"Dimension \",arr.ndim) #gives dimension( 1d, 2d, etc)\n",
    "print(\"Size \",arr.size)    # gives total element of the array\n",
    "print(\"data types \",arr.dtype) # gives data types"
   ]
  },
  {
   "cell_type": "markdown",
   "id": "98ab2685",
   "metadata": {},
   "source": [
    "### Array Reshaping"
   ]
  },
  {
   "cell_type": "code",
   "execution_count": 37,
   "id": "16e69442",
   "metadata": {},
   "outputs": [
    {
     "name": "stdout",
     "output_type": "stream",
     "text": [
      "Original array  [ 0  1  2  3  4  5  6  7  8  9 10 11]\n",
      "Reshaped array \n",
      " [[ 0  1  2  3]\n",
      " [ 4  5  6  7]\n",
      " [ 8  9 10 11]]\n",
      "flattened array \n",
      " [ 0  1  2  3  4  5  6  7  8  9 10 11]\n",
      "reveled array \n",
      " [ 0  1  2  3  4  5  6  7  8  9 10 11]\n",
      "Transpose array \n",
      " [[ 0  4  8]\n",
      " [ 1  5  9]\n",
      " [ 2  6 10]\n",
      " [ 3  7 11]]\n"
     ]
    }
   ],
   "source": [
    "arr = np.arange(12)\n",
    "print(\"Original array \", arr)\n",
    "\n",
    "Reshaped = arr.reshape((3,4))\n",
    "print(\"Reshaped array \\n\", Reshaped)\n",
    "\n",
    "flattened = Reshaped.flatten()\n",
    "print(\"flattened array \\n\", flattened)\n",
    "\n",
    "# revel return view, insteado of copy\n",
    "raveled = Reshaped.ravel()\n",
    "print(\"reveled array \\n\", raveled)\n",
    "\n",
    "#Transpose\n",
    "transpose = Reshaped.T\n",
    "print(\"Transpose array \\n\", transpose)\n",
    "\n",
    "\n",
    "\n"
   ]
  }
 ],
 "metadata": {
  "kernelspec": {
   "display_name": "venv",
   "language": "python",
   "name": "python3"
  },
  "language_info": {
   "codemirror_mode": {
    "name": "ipython",
    "version": 3
   },
   "file_extension": ".py",
   "mimetype": "text/x-python",
   "name": "python",
   "nbconvert_exporter": "python",
   "pygments_lexer": "ipython3",
   "version": "3.13.2"
  }
 },
 "nbformat": 4,
 "nbformat_minor": 5
}
