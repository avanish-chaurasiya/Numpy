{
 "cells": [
  {
   "cell_type": "markdown",
   "id": "72a47896",
   "metadata": {},
   "source": [
    "### Advance operation with Business example "
   ]
  },
  {
   "cell_type": "code",
   "execution_count": 3,
   "id": "a3ca1fc8",
   "metadata": {},
   "outputs": [],
   "source": [
    "import numpy as np\n",
    "import matplotlib.pyplot as pit"
   ]
  },
  {
   "cell_type": "code",
   "execution_count": 9,
   "id": "52ebda77",
   "metadata": {},
   "outputs": [
    {
     "name": "stdout",
     "output_type": "stream",
     "text": [
      "\n",
      " sales data shape  (5, 5)\n",
      "\n",
      " sample data for 2nd restau: \n",
      " [     2 120000 140000 160000 190000]\n",
      "\n",
      " sample data for 1st 3 restau: \n",
      " [[     1 150000 180000 220000 250000]\n",
      " [     2 120000 140000 160000 190000]\n",
      " [     3 200000 230000 260000 300000]]\n",
      "\n",
      " sample data for 1st 3 restau: \n",
      " [[     1 150000 180000 220000 250000]\n",
      " [     2 120000 140000 160000 190000]\n",
      " [     3 200000 230000 260000 300000]]\n",
      "\n",
      " sample data: \n",
      " [[150000 180000 220000 250000]\n",
      " [120000 140000 160000 190000]\n",
      " [200000 230000 260000 300000]\n",
      " [180000 210000 240000 270000]\n",
      " [160000 185000 205000 230000]]\n"
     ]
    }
   ],
   "source": [
    "#Data structure :[restaurant_id, 2021, 2022, 2023, 2024]\n",
    "sales_data = np.array([\n",
    "    [1, 150000, 180000, 220000, 250000],   #A\n",
    "    [2, 120000, 140000, 160000, 190000],   #B\n",
    "    [3, 200000, 230000, 260000, 300000],   #C\n",
    "    [4, 180000, 210000, 240000, 270000],   #D\n",
    "    [5, 160000, 185000, 205000, 230000],   #E\n",
    "])\n",
    "\n",
    "print(\"\\n sales data shape \", sales_data.shape)\n",
    "\n",
    "print(\"\\n sample data for 2nd restau: \\n\", sales_data[1])   #write index no. to print perticular row\n",
    "print(\"\\n sample data for 1st 3 restau: \\n\", sales_data[0:3])\n",
    "print(\"\\n sample data for 1st 3 restau: \\n\", sales_data[:3]) # this 2 are same but different method to represent\n",
    "print(\"\\n sample data: \\n\", sales_data[:,1:]) # before comma \":\" means all the rows will be print \n",
    "# (a,b) here a= rows and b= column\n",
    " # (1: ) here 1 means it will start with index 1 in column and after colon nothing is mension so include all column after index no. 1 \n",
    "\n",
    "\n"
   ]
  },
  {
   "cell_type": "code",
   "execution_count": null,
   "id": "67ac4ba5",
   "metadata": {},
   "outputs": [],
   "source": [
    "# total sales per year  \n",
    "\n",
    "print(np.)\n",
    "\n"
   ]
  }
 ],
 "metadata": {
  "kernelspec": {
   "display_name": "venv",
   "language": "python",
   "name": "python3"
  },
  "language_info": {
   "codemirror_mode": {
    "name": "ipython",
    "version": 3
   },
   "file_extension": ".py",
   "mimetype": "text/x-python",
   "name": "python",
   "nbconvert_exporter": "python",
   "pygments_lexer": "ipython3",
   "version": "3.13.2"
  }
 },
 "nbformat": 4,
 "nbformat_minor": 5
}
