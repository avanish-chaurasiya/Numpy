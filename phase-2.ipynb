{
 "cells": [
  {
   "cell_type": "markdown",
   "id": "feba28a8",
   "metadata": {},
   "source": [
    "## Numpy Array Operation"
   ]
  },
  {
   "cell_type": "code",
   "execution_count": 1,
   "id": "fbc0eeda",
   "metadata": {},
   "outputs": [],
   "source": [
    "import numpy as np"
   ]
  },
  {
   "cell_type": "code",
   "execution_count": 2,
   "id": "667421b6",
   "metadata": {},
   "outputs": [
    {
     "name": "stdout",
     "output_type": "stream",
     "text": [
      "basic Slicing  [3 4 5 6 7]\n",
      "with step  [2 4 6 8]\n",
      "negative indexing  7\n"
     ]
    }
   ],
   "source": [
    "arr = np.array([1,2,3,4,5,6,7,8,9])\n",
    "print(\"basic Slicing \", arr[2:7])\n",
    "print(\"with step \", arr[1:8:2])\n",
    "print(\"negative indexing \",arr[-3])"
   ]
  },
  {
   "cell_type": "code",
   "execution_count": 3,
   "id": "b191f3f9",
   "metadata": {},
   "outputs": [
    {
     "name": "stdout",
     "output_type": "stream",
     "text": [
      "specific element 8\n",
      "Entire row:  [5 6 7]\n",
      "Entire column:  [2 6 8]\n"
     ]
    }
   ],
   "source": [
    "         #  column  0 1 2     row\n",
    "arr_2d = np.array([[1,2,3],  # 0\n",
    "                   [5,6,7],  # 1\n",
    "                   [4,8,9]])  # 2\n",
    "print(\"specific element\" ,arr_2d[2,1])     # this is allow in numpy not in python\n",
    "\n",
    "print(\"Entire row: \", arr_2d[1])   #row x column\n",
    "print(\"Entire column: \", arr_2d[:,1])   #row x column\n"
   ]
  },
  {
   "cell_type": "markdown",
   "id": "dee01298",
   "metadata": {},
   "source": [
    "Sorting"
   ]
  },
  {
   "cell_type": "code",
   "execution_count": 4,
   "id": "ce2d1b48",
   "metadata": {},
   "outputs": [
    {
     "name": "stdout",
     "output_type": "stream",
     "text": [
      "Sorted Array:  [0 1 2 3 4 5 6 9]\n",
      "sorted 2d array by column: \n",
      " [[1 4]\n",
      " [2 5]\n",
      " [3 6]]\n",
      "sorted 2d array by row: \n",
      " [[3 4]\n",
      " [2 6]\n",
      " [1 5]]\n"
     ]
    }
   ],
   "source": [
    "unsorted = np.array([3,6,4,9,1,5,0,2])\n",
    "print(\"Sorted Array: \",np.sort(unsorted))\n",
    "\n",
    "arr_2d_unsorted = np.array([[3,4],[2,6],[1,5]])\n",
    "print(\"sorted 2d array by column: \\n\",np.sort(arr_2d_unsorted , axis=0))\n",
    "print(\"sorted 2d array by row: \\n\",np.sort(arr_2d_unsorted , axis=1))\n"
   ]
  },
  {
   "cell_type": "markdown",
   "id": "de4d43b6",
   "metadata": {},
   "source": [
    "## Filter"
   ]
  },
  {
   "cell_type": "code",
   "execution_count": 5,
   "id": "020a2e88",
   "metadata": {},
   "outputs": [
    {
     "name": "stdout",
     "output_type": "stream",
     "text": [
      "even number  [ 2  4  6  8 10]\n"
     ]
    }
   ],
   "source": [
    "number = np.array([1,2,3,4,5,6,7,8,9,10])\n",
    "even_no = number[number%2 ==0]\n",
    "print(\"even number \", even_no)"
   ]
  },
  {
   "cell_type": "markdown",
   "id": "218513b5",
   "metadata": {},
   "source": [
    "### Filter with mask"
   ]
  },
  {
   "cell_type": "code",
   "execution_count": 6,
   "id": "c737ce6b",
   "metadata": {},
   "outputs": [
    {
     "name": "stdout",
     "output_type": "stream",
     "text": [
      "Numbers greater than 5:  [ 6  7  8  9 10]\n"
     ]
    }
   ],
   "source": [
    "mask = number > 5\n",
    "print(\"Numbers greater than 5: \",number[mask])"
   ]
  },
  {
   "cell_type": "markdown",
   "id": "18feb314",
   "metadata": {},
   "source": [
    "### Fancy indexing vs np.where()"
   ]
  },
  {
   "cell_type": "code",
   "execution_count": null,
   "id": "e30a24d9",
   "metadata": {},
   "outputs": [
    {
     "name": "stdout",
     "output_type": "stream",
     "text": [
      "[ 1  3  5 10]\n",
      "(array([5, 6, 7, 8, 9]),)\n",
      "np where [ 6  7  8  9 10]\n"
     ]
    }
   ],
   "source": [
    "indices = [0, 2,4,9]   #index number\n",
    "print(number[indices])\n",
    "\n",
    "where_result = np.where(number>5)\n",
    "print(where_result)                    # here index number will print\n",
    "print(\"np where\", number[where_result]) "
   ]
  },
  {
   "cell_type": "code",
   "execution_count": null,
   "id": "933d7d48",
   "metadata": {},
   "outputs": [
    {
     "name": "stdout",
     "output_type": "stream",
     "text": [
      "condition_array  [ 2  4  6  8 10 24 28 32 36 40]\n"
     ]
    }
   ],
   "source": [
    "condition_array = np.where(number>5 , number*4 , number*2)  # (condition, True, False)\n",
    "# if(number > 5 ):\n",
    "#     print(number *4)\n",
    "# else:\n",
    "#     print(number)\n",
    "print(\"condition_array \", condition_array)"
   ]
  },
  {
   "cell_type": "markdown",
   "id": "aa6800f9",
   "metadata": {},
   "source": [
    "### Adding and removing data"
   ]
  },
  {
   "cell_type": "code",
   "execution_count": 20,
   "id": "87d91f78",
   "metadata": {},
   "outputs": [
    {
     "name": "stdout",
     "output_type": "stream",
     "text": [
      "[1 2 3 4 5 6]\n"
     ]
    }
   ],
   "source": [
    "arr1 = np.array([1,2,3])\n",
    "arr2 = np.array([4,5,6])\n",
    "\n",
    "combined = np.concatenate((arr1,arr2))\n",
    "print(combined)"
   ]
  },
  {
   "cell_type": "markdown",
   "id": "303961f3",
   "metadata": {},
   "source": [
    "### Array Compatibility "
   ]
  },
  {
   "cell_type": "code",
   "execution_count": null,
   "id": "68068c4c",
   "metadata": {},
   "outputs": [
    {
     "name": "stdout",
     "output_type": "stream",
     "text": [
      "compatiblity shapes:  True\n",
      "compatiblity shapes:  False\n"
     ]
    }
   ],
   "source": [
    "a= np.array([1,2,3])     # it check where the shape of the array is same or not  \n",
    "b= np.array([4,5,6])\n",
    "c= np.array([7,8,9,10])\n",
    "\n",
    "print(\"compatiblity shapes: \", a.shape == b.shape)\n",
    "print(\"compatiblity shapes: \", c.shape == b.shape)"
   ]
  },
  {
   "cell_type": "markdown",
   "id": "41b293b2",
   "metadata": {},
   "source": [
    "### Adding new Row and column in the array"
   ]
  },
  {
   "cell_type": "code",
   "execution_count": 32,
   "id": "ed1983b3",
   "metadata": {},
   "outputs": [
    {
     "name": "stdout",
     "output_type": "stream",
     "text": [
      "New array row: \n",
      " [[1 2 3]\n",
      " [4 5 6]\n",
      " [7 8 9]]\n",
      "New array column: \n",
      " [[1 2 3 7]\n",
      " [4 5 6 8]]\n"
     ]
    }
   ],
   "source": [
    "original = np.array([[1,2,3],[4,5,6]])\n",
    "\n",
    "add_row = np.array([7,8,9])\n",
    "new_array_row = np.vstack((original, add_row))   # vstack --> vertical stack means \n",
    "print(\"New array row: \\n\", new_array_row)\n",
    "\n",
    "add_column = np.array([[7],[8]])\n",
    "new_array_column = np.hstack((original,add_column))   # vstack --> vertical stack means \n",
    "print(\"New array column: \\n\", new_array_column)"
   ]
  },
  {
   "cell_type": "markdown",
   "id": "60f7f98e",
   "metadata": {},
   "source": [
    "### deleting new Row and column in the array"
   ]
  },
  {
   "cell_type": "code",
   "execution_count": 50,
   "id": "1198fc4f",
   "metadata": {},
   "outputs": [
    {
     "name": "stdout",
     "output_type": "stream",
     "text": [
      "deleted array  [1 2 3 4 5 7 8]\n",
      "deleted array \n",
      " [[1 3]\n",
      " [4 6]\n",
      " [7 9]]\n"
     ]
    }
   ],
   "source": [
    "array = np.array([1,2,3,4,5,6,7,8])\n",
    "deleted_element = np.delete(array, 5)\n",
    "print(\"deleted array \",deleted_element)\n",
    "\n",
    "array_2d = np.array([[1,2,3],\n",
    "                     [4,5,6],\n",
    "                     [7,8,9]])\n",
    "delete =np.delete(array_2d, 1,1)\n",
    "print(\"deleted array \\n\",delete)\n"
   ]
  }
 ],
 "metadata": {
  "kernelspec": {
   "display_name": "venv",
   "language": "python",
   "name": "python3"
  },
  "language_info": {
   "codemirror_mode": {
    "name": "ipython",
    "version": 3
   },
   "file_extension": ".py",
   "mimetype": "text/x-python",
   "name": "python",
   "nbconvert_exporter": "python",
   "pygments_lexer": "ipython3",
   "version": "3.13.2"
  }
 },
 "nbformat": 4,
 "nbformat_minor": 5
}
